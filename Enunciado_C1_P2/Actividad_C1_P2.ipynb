{
  "cells": [
    {
      "cell_type": "markdown",
      "metadata": {
        "id": "view-in-github",
        "colab_type": "text"
      },
      "source": [
        "<a href=\"https://colab.research.google.com/github/mariachurches/AprendizajeSupervisado/blob/main/Enunciado_C1_P2/Actividad_C1_P2.ipynb\" target=\"_parent\"><img src=\"https://colab.research.google.com/assets/colab-badge.svg\" alt=\"Open In Colab\"/></a>"
      ]
    },
    {
      "cell_type": "markdown",
      "metadata": {
        "id": "jewxZlbhVKAX"
      },
      "source": [
        "## Convocatoria 1 - Proyecto 2"
      ]
    },
    {
      "cell_type": "markdown",
      "metadata": {
        "id": "Dw4wDkHLVKAa"
      },
      "source": [
        "### Ejercicio 1 (4 puntos)\n",
        "Utilizar el conjunto de datos \"dataset_1.npy\" para resolver el ejercicio. Tener en cuenta que la última columna corresponde a la clase."
      ]
    },
    {
      "cell_type": "code",
      "source": [
        "#Importamos las librerias necesarias y cargamos\n",
        "import numpy as np\n",
        "import pandas as pd\n",
        "from sklearn.impute import SimpleImputer\n",
        "from sklearn.covariance import EllipticEnvelope\n",
        "\n",
        "data = np.load(\"/content/dataset_1.npy\")\n",
        "X_data = data[:, : -1]\n",
        "y_data = data[:, -1]"
      ],
      "metadata": {
        "id": "QkEUQKBPvcGS"
      },
      "execution_count": 58,
      "outputs": []
    },
    {
      "cell_type": "markdown",
      "metadata": {
        "id": "cJRwCYNxVKAb"
      },
      "source": [
        "#### 1.a) Imputación de valores ausentes (2 puntos)\n",
        "\n",
        "- En aquellas instancias (filas) que contengan UN ÚNICO VALOR NaN en alguno de sus atributos (columnas), se imputará dicho valor.\n",
        " * Si el atributo corresponde a una variable discreta, se imputará el valor utilizando la moda de dicho atributo. \n",
        " * Si el atributo corresponde a una variable continua, se imputará el valor utilizando la media de dicho atributo. \n",
        "- Aquellas instancias (filas) que contengan MÁS DE UN VALOR NaN en sus atributos, deberán ser eliminadas por completo. \n",
        "\n",
        "Los outputs deberán ser: \n",
        "- Una matriz \"X\" de dimensiones M x N, donde M será el número de instancias y N, el de atributos.\n",
        "- Un vector \"y\" de dimensiones M. "
      ]
    },
    {
      "cell_type": "code",
      "execution_count": 59,
      "metadata": {
        "id": "X5MgGQhdVKAc",
        "colab": {
          "base_uri": "https://localhost:8080/"
        },
        "outputId": "97a25598-0dfc-4edf-d040-a49441c9e626"
      },
      "outputs": [
        {
          "output_type": "stream",
          "name": "stdout",
          "text": [
            "Antes de la imputación de valores ausentes había que 8 filas con valores ausentes\n",
            "Después de la imputación de valores ausentes hay que 0 filas con valores ausentes\n"
          ]
        }
      ],
      "source": [
        "print(\"Antes de la imputación de valores ausentes había que \" +  str(np.isnan(data).any(axis=1).sum()) + \" filas con valores ausentes\")\n",
        "\n",
        "#Primero borramos aquellas instancias que tienen más de un elemento nan\n",
        "X_data = X_data[~np.isnan(X_data).all(axis=1)]\n",
        "\n",
        "#Después borramos los NaN restantes como nos indica el enunciado\n",
        "data_discreta = X_data[:,:4]\n",
        "data_continua = X_data[:,5:]\n",
        "\n",
        "imp_media = SimpleImputer(strategy='mean') # Utilizamos la estrategia de la media\n",
        "imp_moda = SimpleImputer(strategy='most_frequent') # Utilizamos la estrategia de la media\n",
        "\n",
        "data_discreta_fit = imp_media.fit_transform(data_discreta)\n",
        "data_continua_fit = imp_moda.fit_transform(data_continua)\n",
        "\n",
        "X_data[:,:4] = data_discreta_fit\n",
        "X_data[:,5:] = data_continua_fit\n",
        "\n",
        "print(\"Después de la imputación de valores ausentes hay que \" +  str(np.isnan(X_data).any(axis=1).sum()) + \" filas con valores ausentes\")"
      ]
    },
    {
      "cell_type": "markdown",
      "metadata": {
        "id": "I0-4kEzqVKAd"
      },
      "source": [
        "#### 1.b) Eliminación de valores outliers extremos (2 puntos)\n",
        "- Aplicar el método de Elliptic Envelope fijando una semilla en 42\n",
        "- Utilizar el diagrama de caja y bigotes para establecer los umbrales de decisión\n",
        "- Plotear el diagrama (box and whiskers) obtenido a partir de las puntuaciones calculadas con el método Elliptic Envelope\n",
        "- Eliminar las instancias que contengan valores outliers extremos\n",
        "\n",
        "Los outputs deberán ser: \n",
        "- Una matriz \"X\" de dimensiones M' x N, donde M' será el nuevo número de instancias y N, el de atributos.\n",
        "- Un vector \"y\" de dimensiones M'. "
      ]
    },
    {
      "cell_type": "code",
      "execution_count": 63,
      "metadata": {
        "id": "rB-qNaRJVKAe",
        "outputId": "7d7c36bb-6d39-42c8-a88b-4c4601b6c54c",
        "colab": {
          "base_uri": "https://localhost:8080/"
        }
      },
      "outputs": [
        {
          "output_type": "stream",
          "name": "stdout",
          "text": [
            "[ 9.99277440e+01  1.02970467e+02  1.01340983e+02  1.07771876e+02\n",
            "  1.10089596e+02  1.05864943e+02  9.78430705e+01  1.01893182e+02\n",
            "  1.07431830e+02  1.04605885e+02  1.09115399e+02  1.02179911e+02\n",
            "  9.42397679e+01  1.06690465e+02  1.06097584e+02  1.10310657e+02\n",
            "  1.09562995e+02  1.08574230e+02  1.04888271e+02  1.03394557e+02\n",
            "  1.08163730e+02  1.02496693e+02  1.04249417e+02  1.07769866e+02\n",
            "  1.05962777e+02  1.08922394e+02  1.04091721e+02  1.03822200e+02\n",
            "  1.05311964e+02  1.07411965e+02  1.06276777e+02  1.02560908e+02\n",
            "  1.07568945e+02  1.03237009e+02  1.04449703e+02  1.09434490e+02\n",
            "  9.96071679e+01  1.07989426e+02  1.06411553e+02  1.03741098e+02\n",
            "  1.04059236e+02  1.07779048e+02  9.78660800e+01  1.04084013e+02\n",
            "  1.02223939e+02  9.96256096e+01  1.05891099e+02  1.04293999e+02\n",
            "  1.01750682e+02  1.09930382e+02  1.06154778e+02  1.08733517e+02\n",
            "  9.54665374e+01  1.03754431e+02  1.08963845e+02  1.02805636e+02\n",
            "  1.10396505e+02  1.02307776e+02  1.04433157e+02  1.03603114e+02\n",
            "  1.09281413e+02  1.07347526e+02  1.04661634e+02  1.07794810e+02\n",
            "  1.06606903e+02  1.06702989e+02  1.06947928e+02  8.73071196e+01\n",
            "  1.00004346e+02  1.08700609e+02  1.09745264e+02  1.04714527e+02\n",
            "  1.03381643e+02  1.08543140e+02  1.03415108e+02  1.04508128e+02\n",
            "  1.07336021e+02  1.08188300e+02  9.97994575e+01  9.79820269e+01\n",
            "  1.04684779e+02  1.07541039e+02  1.08569736e+02  1.08331523e+02\n",
            "  9.82613610e+01  1.08905540e+02  1.03848985e+02  1.05194114e+02\n",
            "  1.05371379e+02  1.01565500e+02  1.07341548e+02  1.05425105e+02\n",
            "  9.83335811e+01  9.58398567e+01  1.06073960e+02  1.05296774e+02\n",
            "  1.03269612e+02  1.08878464e+02  1.03810041e+02  1.08850132e+02\n",
            "  1.08434640e+02  1.06537775e+02  1.04885075e+02  1.03697846e+02\n",
            "  1.09303905e+02  1.05083229e+02  1.00452747e+02  1.07065298e+02\n",
            "  9.78819504e+01  9.67472344e+01  1.06022362e+02  1.06055282e+02\n",
            "  1.04596781e+02  1.09075901e+02  1.10168134e+02  1.04501127e+02\n",
            "  1.05260405e+02  1.09591266e+02  1.07556407e+02  1.03797437e+02\n",
            "  1.02021775e+02  1.10496294e+02  1.04006392e+02  1.06659322e+02\n",
            "  1.05005020e+02  1.06984100e+02  1.07087023e+02  1.06658848e+02\n",
            "  1.06105162e+02  1.04302981e+02  1.05520974e+02  1.09886215e+02\n",
            "  1.06077807e+02  1.01573570e+02  1.01040975e+02  1.07426431e+02\n",
            "  1.04622384e+02  1.01924655e+02  1.10713843e+02  1.06300539e+02\n",
            "  1.06339704e+02  1.08058372e+02  1.02378546e+02  1.09736321e+02\n",
            "  1.07179403e+02  1.05051453e+02  1.06329671e+02  1.06125153e+02\n",
            "  1.06950102e+02  9.78490161e+01  1.03513078e+02  1.05970282e+02\n",
            "  1.07087269e+02  1.07656677e+02  1.07110536e+02  1.09854000e+02\n",
            "  1.01589342e+02  1.02086995e+02  1.04752324e+02  1.08690017e+02\n",
            "  1.07819762e+02  1.07425455e+02  1.08842560e+02  1.04735633e+02\n",
            "  1.06900507e+02  1.07706581e+02  1.10097314e+02  1.00922003e+02\n",
            "  1.04224006e+02  1.05754922e+02  1.01834449e+02  1.08358873e+02\n",
            "  1.07450637e+02  1.05728946e+02  1.02851665e+02  1.05514483e+02\n",
            "  1.07383693e+02  1.07691698e+02  1.05124945e+02  1.00320001e+02\n",
            "  1.03403494e+02  1.04659920e+02  1.04779947e+02  1.02747938e+02\n",
            "  1.07533091e+02  1.04214629e+02  1.06365490e+02  1.04951991e+02\n",
            "  1.09347903e+02  1.10380734e+02  1.01596173e+02  1.03729731e+02\n",
            "  9.91485582e+01  9.69292387e+01  1.03522743e+02  1.04764334e+02\n",
            "  1.05043345e+02  1.07561332e+02  1.06499220e+02  1.07424186e+02\n",
            "  1.03955743e+02  1.06314400e+02  9.76442039e+01  1.02104419e+02\n",
            "  1.07478198e+02  7.89622629e+01  1.05702621e+02  1.08275319e+02\n",
            "  1.05966749e+02  1.00056983e+02  1.04852414e+02  1.07495169e+02\n",
            "  1.09083944e+02  1.07297274e+02  1.08457148e+02  1.05219268e+02\n",
            "  1.01823395e+02  1.01230114e+02  1.09834845e+02  1.03929920e+02\n",
            "  1.09818987e+02  1.04156621e+02  1.08573570e+02  1.06562045e+02\n",
            "  1.05424022e+02  1.04348266e+02  1.09506861e+02  1.07543861e+02\n",
            "  1.09128590e+02  1.09832687e+02  1.05753882e+02  1.03079542e+02\n",
            "  1.04522596e+02  1.09638854e+02  1.00546681e+02  1.05128824e+02\n",
            "  1.08434071e+02  1.03121314e+02  1.05908376e+02  1.05460604e+02\n",
            "  1.02237859e+02  1.08173479e+02  1.04218228e+02  1.00064171e+02\n",
            "  1.05525188e+02  1.06146943e+02  1.05007797e+02  1.04712271e+02\n",
            "  9.39829003e+01  1.05383740e+02  1.02734631e+02  1.06406766e+02\n",
            "  9.90190747e+01  1.01402822e+02  1.01782534e+02  1.00670429e+02\n",
            "  9.91109417e+01  1.04323323e+02  1.00291478e+02  9.50073012e+01\n",
            "  9.94639241e+01  1.04974929e+02  9.91162994e+01  1.05269929e+02\n",
            "  1.03228678e+02  1.05433286e+02  9.95118772e+01  1.07398163e+02\n",
            "  1.03440517e+02  1.02735104e+02  1.05398330e+02  1.04904249e+02\n",
            "  1.05554256e+02  1.01296242e+02  9.37339423e+01  1.02868606e+02\n",
            "  1.03424757e+02  1.02977656e+02  1.04073397e+02  1.06958358e+02\n",
            "  1.07269413e+02  1.00118744e+02  1.03858083e+02  1.03056038e+02\n",
            "  1.03163829e+02  1.00346193e+02  1.05270317e+02  1.03465974e+02\n",
            "  9.88633099e+01  9.99260229e+01  9.67603357e+01  1.04893436e+02\n",
            "  9.79252321e+01  9.81849206e+01  1.05301692e+02  1.04481986e+02\n",
            "  1.05783404e+02  9.32579892e+01  1.05002656e+02  1.00437190e+02\n",
            "  1.05202872e+02  1.02591309e+02  9.87737273e+01  9.76122131e+01\n",
            "  1.07742291e+02  1.00012780e+02  1.02977271e+02  1.07109547e+02\n",
            "  1.04743077e+02  1.03321232e+02  1.04601870e+02  1.02482831e+02\n",
            "  1.02422517e+02  1.05127497e+02  1.02992517e+02  1.06774319e+02\n",
            "  1.01408772e+02  9.85598431e+01  9.86822279e+01  1.03696155e+02\n",
            "  1.06631184e+02  1.03917412e+02  1.02890341e+02  1.00702981e+02\n",
            "  1.03884996e+02  1.04651934e+02  1.01879329e+02  1.05045593e+02\n",
            "  1.05066580e+02  1.02181654e+02  9.60212081e+01  9.05387924e+01\n",
            "  1.06405556e+02  1.06984118e+02  1.03711406e+02  1.04843923e+02\n",
            "  1.04973489e+02  9.97236782e+01  1.00314626e+02  1.03163208e+02\n",
            "  9.78389993e+01  1.04889158e+02  1.01697862e+02  9.94505283e+01\n",
            "  1.01222673e+02  1.02008380e+02  1.04853012e+02  9.47929139e+01\n",
            "  7.38114531e+01  1.06123559e+02  9.87630572e+01  1.03562684e+02\n",
            "  9.87346780e+01  1.01519419e+02  1.01443768e+02  1.06674117e+02\n",
            "  1.04683761e+02  1.01259691e+02  1.00931217e+02  1.02893789e+02\n",
            "  1.03954736e+02  1.04025656e+02  1.06684382e+02  1.00216310e+02\n",
            "  1.07010196e+02  1.00857563e+02  1.02667447e+02  1.07216743e+02\n",
            "  1.05299161e+02  1.05484231e+02  9.88772624e+01  2.49414161e+00\n",
            "  2.51969935e+00  2.90661368e+00 -1.69350792e+00  4.15095058e+00\n",
            " -1.98612115e+00  3.13687752e+00  2.23092377e+00  1.25460957e+00\n",
            "  6.91283855e+00 -1.69902988e+00 -3.46001455e+00 -3.17709512e+00\n",
            " -1.93603643e+00  5.37355359e+00 -3.70233201e+00 -1.85973660e+00\n",
            "  1.43749664e+00 -7.83025972e-01  5.46929753e+00  3.36804092e-01\n",
            "  6.34878738e+00  3.66741439e+00  1.54397982e-01  7.74134139e+00\n",
            "  7.46950066e+00 -2.96857859e+00  2.97074735e+00  8.37491826e+00\n",
            " -2.32757597e+00  5.55662934e+00  8.70396171e+00  3.02412637e+00\n",
            "  1.01329194e+00  3.91370576e+00  2.90908247e+00  2.12067159e+00\n",
            "  3.28559724e+00 -2.36297399e+00  8.01122562e-01 -2.72654639e-01\n",
            " -4.67365535e+00  5.70920711e+00 -7.08950676e+00  3.24181409e+00\n",
            " -2.52782272e+00 -1.29875815e+01  2.15915907e+00 -2.47375404e-01\n",
            " -8.03220381e+00 -2.65730042e+00 -4.14652357e+00 -9.90918331e+00\n",
            " -1.30886560e+00 -1.93149237e-02 -1.07329529e+00 -2.10923721e+00\n",
            " -3.14266826e+00 -4.09314501e+00  3.82600337e+00 -2.14636112e+00\n",
            " -1.56042480e+00 -9.13065863e+00 -2.19691210e-01 -7.54146139e+00\n",
            " -1.74548598e+00 -4.22412366e+00 -5.15701483e+00 -1.06638742e+00\n",
            " -4.44374510e+00 -3.13065656e+00 -9.66074090e-01 -5.31845586e+00\n",
            " -1.48165438e+00 -4.49342367e+00 -3.82932224e+00 -3.54775693e+00\n",
            "  2.41058655e+00 -1.81442678e+01 -1.83127314e+00 -1.49848389e+00\n",
            " -5.84739906e+00 -6.38521595e+00  2.89723856e-02  5.68936092e+01\n",
            "  6.69682442e+01  5.83895905e+01  6.42024446e+01  5.91308512e+01\n",
            "  6.05956903e+01  6.15924421e+01  5.73870080e+01  6.05542270e+01\n",
            "  6.03348130e+01  6.15429321e+01  6.25557524e+01  6.36907251e+01\n",
            "  5.67459305e+01  6.20905020e+01  5.43804648e+01  6.27965175e+01\n",
            "  5.82842390e+01  5.96413720e+01  6.44346647e+01  5.99927150e+01\n",
            "  5.99867906e+01  6.27679090e+01  6.31936076e+01  6.17422022e+01\n",
            "  6.05362358e+01  6.33129223e+01  6.11836238e+01  6.00288236e+01\n",
            "  6.26152478e+01  6.35711958e+01  6.02799556e+01  6.18486780e+01\n",
            "  5.90405051e+01  6.04526076e+01  5.78964131e+01  6.14792819e+01\n",
            "  6.20308754e+01  6.12134151e+01  5.96280299e+01]\n",
            "(495,)\n"
          ]
        },
        {
          "output_type": "stream",
          "name": "stderr",
          "text": [
            "/usr/local/lib/python3.7/dist-packages/sklearn/covariance/_robust_covariance.py:189: RuntimeWarning: Determinant has increased; this should not happen: log(det) > log(previous_det) (-36.369435824887027 > -36.479965227341815). You may want to try with a higher value of support_fraction (current value: 0.509).\n",
            "  RuntimeWarning,\n"
          ]
        }
      ],
      "source": [
        "# Limpieza de datos: detección de outliers.\n",
        "outlier_method = EllipticEnvelope().fit(X_data)\n",
        "\n",
        "# Obtenemos unos valores de puntuación a nivel de instancia para determinar después las que corresponden con valores atípicos\n",
        "scores_pred = outlier_method.decision_function(X_data)\n",
        "print(scores_pred)\n",
        "print(np.shape(scores_pred))"
      ]
    },
    {
      "cell_type": "markdown",
      "metadata": {
        "id": "VAybwKi6VKAe"
      },
      "source": [
        "### Ejercicio 2 (6 puntos)"
      ]
    },
    {
      "cell_type": "markdown",
      "metadata": {
        "id": "7FjPVZFZVKAf"
      },
      "source": [
        "Crear un programa, con comentarios que aclaren el código, donde se computen las métricas MAE, MSE, RMSE, MAPE y R2 aplicando los regresores OLS y KNN en DOS datasets de regresión (a elegir). Nota: Al menos uno de los datasets deberá ser externo a la librería de scikit-learn.\n",
        "\n",
        "Se debe llevar a cabo:\n",
        "- Exploración de los datos y descripción del dataset\n",
        "- Tratamiento de outliers y valores perdidos (si los hay)\n",
        "- Partición externa de datos\n",
        "- Estandarización de los datos\n",
        "- Selección de atributos mediante métodos supervisados (solo uno)\n",
        "- Validación cruzada interna para optimizar los hiperparámetros de los algoritmos (si procede)\n",
        "- Modelado\n",
        "- Predicción y evaluación sobre el conjunto de test (resultados cuantitativos y cualitativos)\n",
        "- Breve discusión comparando los resultados obtenidos con cada método."
      ]
    },
    {
      "cell_type": "code",
      "execution_count": null,
      "metadata": {
        "id": "ACcNZw1yVKAf"
      },
      "outputs": [],
      "source": [
        ""
      ]
    }
  ],
  "metadata": {
    "kernelspec": {
      "display_name": "Python 3",
      "language": "python",
      "name": "python3"
    },
    "language_info": {
      "codemirror_mode": {
        "name": "ipython",
        "version": 3
      },
      "file_extension": ".py",
      "mimetype": "text/x-python",
      "name": "python",
      "nbconvert_exporter": "python",
      "pygments_lexer": "ipython3",
      "version": "3.8.5"
    },
    "colab": {
      "name": "Actividad_C1_P2.ipynb",
      "provenance": [],
      "include_colab_link": true
    }
  },
  "nbformat": 4,
  "nbformat_minor": 0
}